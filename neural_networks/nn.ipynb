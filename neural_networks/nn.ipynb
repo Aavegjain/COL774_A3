{
 "cells": [
  {
   "cell_type": "code",
   "execution_count": null,
   "metadata": {},
   "outputs": [],
   "source": [
    "import numpy as np \n",
    "import math "
   ]
  },
  {
   "cell_type": "code",
   "execution_count": null,
   "metadata": {},
   "outputs": [],
   "source": [
    "class Node:\n",
    "    def __init__(self, is_output_node = False ): \n",
    "        self.value = None \n",
    "        self.net = None \n",
    "        self.delta = None \n",
    "        self.downstream_nodes = np.array() \n",
    "        self.upstream_nodes = np.array() \n",
    "        self.downstream_weights = np.array() \n",
    "        self.upstream_idxs = np.array()  # index of current node in upstream node's downstream list \n",
    "        self.is_output_node = is_output_node \n",
    "\n",
    "    def add_downstream_node(self, node): # returns idx in the downstream_nodes list \n",
    "        self.downstream_nodes = np.append(self.downstream_nodes, node) \n",
    "        self.downstream_weights = np.append(self.downstream_weights, np.random.rand() )  \n",
    "        return len(self.downstream_nodes) - 1 \n",
    "    \n",
    "    def add_upstream_node(self, node, idx):\n",
    "        self.upstream_nodes = np.append(self.upstream_nodes, node) \n",
    "        self.upstream_idxs = np.append(self.upstream_idxs, idx)  \n",
    "    \n",
    "    def compute_net(self):\n",
    "        net = 0 \n",
    "        for i in range(len(self.upstream_nodes)):\n",
    "            idx = self.upstream_idxs[i] \n",
    "            net += self.upstream_nodes[i].value * self.upstream_nodes[i].downstream_weights[idx] \n",
    "        self.net = net \n",
    "        return net \n",
    "\n",
    "    "
   ]
  },
  {
   "cell_type": "code",
   "execution_count": null,
   "metadata": {},
   "outputs": [],
   "source": [
    "class LogisticNode(Node):\n",
    "    def activation_function(self, x):\n",
    "        return 1 / (1 + math.exp(-x)) \n",
    "\n",
    "    def compute_value(self):\n",
    "        net = self.compute_net() \n",
    "        self.value = self.activation_function(net) "
   ]
  },
  {
   "cell_type": "code",
   "execution_count": null,
   "metadata": {},
   "outputs": [],
   "source": [
    "class SoftmaxNode(Node):\n",
    "    def __init__(self, output_layer, is_output_node = False):\n",
    "        super().__init__(is_output_node) \n",
    "        self.output_layer = output_layer \n",
    "    \n",
    "    def compute_output_value(self):\n",
    "        # assuming here net for all output nodes have been computed \n",
    "        sum = np.sum(np.exp([node.net for node in self.output_layer])) \n",
    "        return math.exp(self.net) / sum "
   ]
  },
  {
   "cell_type": "code",
   "execution_count": null,
   "metadata": {},
   "outputs": [],
   "source": [
    "class Neural_Network:\n",
    "\n",
    "    def __init__(self, minibatch_size, no_of_features, hidden_layers):\n",
    "        self.M = minibatch_size \n",
    "        self.n = no_of_features\n",
    "        self.hidden_layers = hidden_layers \n",
    "    \n",
    "    def make_network(self):\n",
    "        pass \n",
    "    "
   ]
  }
 ],
 "metadata": {
  "language_info": {
   "name": "python"
  }
 },
 "nbformat": 4,
 "nbformat_minor": 2
}
